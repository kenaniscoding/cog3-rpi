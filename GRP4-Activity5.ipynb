{
  "cells": [
    {
      "cell_type": "markdown",
      "metadata": {
        "id": "h_T6hVxOJCVA"
      },
      "source": [
        "# CpE Elective 3 Laboratory (LBYCPC4) <br/>\n",
        "#### Computer Vision and Deep Learning Elective Track\n",
        "<br/>\n",
        "<hr style=\"border:5px solid gray\">\n"
      ]
    },
    {
      "cell_type": "markdown",
      "metadata": {
        "id": "AYngdfKRVFMy"
      },
      "source": [
        "## Activity 5: Familiarization with Single Board Computer (SBC)\n",
        "\n",
        "### Introduction\n",
        "&emsp;&emsp;&emsp;In this activity, we will be familiarizing with the capabilities of a single board computer (SBC). Particularly, we will explore the capabilities of the Raspberry Pi as a versatile single-board computer (SBC) for implementing computer vision and deep learning algorithms on subsequent activities. As a low-cost, compact platform, the Raspberry Pi offers an accessible way to deploy real-world artificial intelligence applications, making it a valuable tool for students, hobbyists, and developers alike.\n",
        "\n",
        "### Objectives\n",
        "- Familiarize with Raspberry Pi's software and hardware capabilities\n",
        "- Program the the Raspberry Pi's general purposes I/Os (GPIOs)\n",
        "- Integrate the Raspberry Pi with a camera to capture real-time video streams"
      ]
    },
    {
      "cell_type": "markdown",
      "metadata": {
        "id": "oaBV0GFgArTj"
      },
      "source": [
        "### Activity\n",
        "For each tasks/steps asking for results/outputs, place the results in the provided markdown or code cells below each step."
      ]
    },
    {
      "cell_type": "markdown",
      "metadata": {
        "id": "uZPOtcykVQkx"
      },
      "source": [
        "**A. Basic Commands and GPIO Control of Single Board Computer**\n",
        "\n",
        "For this task, you will be needing the following external circuit components:\n",
        "* Raspberry Pi\n",
        "* HDMI Adapter and Cable\n",
        "* Breadboard\n",
        "* Jumper wires (female-male)\n",
        "* 4 pcs. LEDs (any color)\n",
        "* 1 pc. push button\n",
        "* 4 pcs. 220-ohm resistors"
      ]
    },
    {
      "cell_type": "markdown",
      "source": [
        "1. Connect an HDMI-compatible monitor, peripherals (e.g., mouse and keyboard), and lastly the power supply to the Raspberry Pi in that order. Open a Terminal and research for the commands to perform the following:\n",
        "<ol type=\"a\">\n",
        "  <li>List all files in the current working diretory</li>\n",
        "  <li>Show disk usage, available space on mounted file systems</li>\n",
        "  <li>Display information about system memory usage (RAM and swap)</li>\n",
        "  <li>Display network configuration, including IP address, interface names, and MAC addresses</li>\n",
        "  <li>Display real-time system information such as CPU and memory usage, and running processes</li>\n",
        "  <li>Open the Nano text editor to create a file \"hello.txt\" with your group member names and ID numbers as its contents</li>\n",
        "</ol>\n",
        "\n",
        "  Show the output of the terminal and the results for each task and document them in your final report.\n"
      ],
      "metadata": {
        "id": "07wZ8EPYwvnQ"
      }
    },
    {
      "cell_type": "markdown",
      "source": [
        "`-- YOUR ANSWER HERE --`\n"
      ],
      "metadata": {
        "id": "5x-IouLNmARv"
      }
    },
    {
      "cell_type": "markdown",
      "source": [
        "2. Research for the layout of the Raspberry Pi 4 GPIO header. You will be needing it as a reference for the next steps."
      ],
      "metadata": {
        "id": "KIZvVPQJws3n"
      }
    },
    {
      "cell_type": "markdown",
      "source": [
        "`-- YOUR ANSWER HERE --`\n"
      ],
      "metadata": {
        "id": "u_uNEty3ws3o"
      }
    },
    {
      "cell_type": "markdown",
      "source": [
        "3. We will be testing the GPIO for generating digital signals, particularly for blinking an LED. Connect one leg of the LED through the 220 ohm resistor to GPIO 17 pin and one leg to a ground pin. Take a picture of your setup."
      ],
      "metadata": {
        "id": "jS3_TVXsws3o"
      }
    },
    {
      "cell_type": "markdown",
      "source": [
        "`-- YOUR ANSWER HERE --`"
      ],
      "metadata": {
        "id": "RTBiVfL6ws3o"
      }
    },
    {
      "cell_type": "markdown",
      "source": [
        "4. Open the Thonny Python IDE and create a new Python script named \"blink_led.py\" saved at the Documents folder. Enter the following simple code to blink the LED. Run the script and take a video of the setup to show that it is working.\n",
        "\n",
        "```\n",
        "  import RPi.GPIO as GPIO\n",
        "  import time\n",
        "\n",
        "  led_pin = 17\n",
        "  GPIO.setmode(GPIO.BCM)\n",
        "  GPIO.setup(led_pin, GPIO.OUT)\n",
        "\n",
        "  try:\n",
        "    while True:\n",
        "      GPIO.output(led_pin, GPIO.HIGH)\n",
        "      time.sleep(0.5)\n",
        "      GPIO.output(led_pin, GPIO.LOW)\n",
        "      time.sleep(0.5)\n",
        "  except KeyboardInterrupt:\n",
        "    GPIO.cleanup()\n",
        "```"
      ],
      "metadata": {
        "id": "xdRp8HfIws3o"
      }
    },
    {
      "cell_type": "markdown",
      "source": [
        "`-- YOUR ANSWER HERE --`"
      ],
      "metadata": {
        "id": "9y5714p2ws3o"
      }
    },
    {
      "cell_type": "markdown",
      "source": [
        "5. We will now be testing the GPIO to read in digital signals, particularly read the state of a push button. Connect one leg of the push button to GPIO 27 pin and the other leg to a ground pin. Take a picture of your setup."
      ],
      "metadata": {
        "id": "HkBtoh3lws3o"
      }
    },
    {
      "cell_type": "markdown",
      "source": [
        "`-- YOUR ANSWER HERE --`"
      ],
      "metadata": {
        "id": "Pv2H1mWCws3o"
      }
    },
    {
      "cell_type": "markdown",
      "source": [
        "6. In the Thonny Python IDE, create a new Python script named \"button_led.py\" saved at the Documents folder. Enter the following code to read the button's state and control the LED. Run the script and take a video of the setup to show that it is working.\n",
        "\n",
        "```\n",
        "  import RPi.GPIO as GPIO\n",
        "  import time\n",
        "\n",
        "  led_pin = 17\n",
        "  button_pin = 27\n",
        "\n",
        "  GPIO.setmode(GPIO.BCM)\n",
        "  GPIO.setup(led_pin, GPIO.OUT)\n",
        "  GPIO.setup(button_pin, GPIO.IN)\n",
        "\n",
        "  try:\n",
        "    while True:\n",
        "      button_state = GPIO.input(button_pin)\n",
        "      if button_state == GPIO.LOW:\n",
        "        GPIO.output(led_pin, GPIO.HIGH)\n",
        "      else:\n",
        "        GPIO.output(led_pin, GPIO.LOW)\n",
        "      time.sleep(0.02)\n",
        "  except KeyboardInterrupt:\n",
        "    GPIO.cleanup()\n",
        "```"
      ],
      "metadata": {
        "id": "8HtyrMw1ws3o"
      }
    },
    {
      "cell_type": "markdown",
      "source": [
        "`-- YOUR ANSWER HERE --`"
      ],
      "metadata": {
        "id": "NugBXC7Nws3o"
      }
    },
    {
      "cell_type": "markdown",
      "source": [
        "7. You may observe that the LED flickers whenever the button is not pressed. To eliminate this problem, look for the function call `GPIO.setup(button_pin, GPIO.IN)` in Step B.5 and specify the following keyword argument: `pull_up_down=GPIO.PUD_UP`. Explain why this change resolves the issue in your final report."
      ],
      "metadata": {
        "id": "5u9b_bCDws3o"
      }
    },
    {
      "cell_type": "markdown",
      "source": [
        "`-- YOUR ANSWER HERE --`"
      ],
      "metadata": {
        "id": "E2nir6-Ows3o"
      }
    },
    {
      "cell_type": "markdown",
      "source": [
        "8. Connect the four (4) LEDs and a push button to the GPIO header properly. Then, create a new Python script named \"led_pattern.py\" saved at the Documents folder. When the program is executed, the 4 LEDs should show a simple moving light pattern across the LEDs, with one LED lit at a time. Pressing the push button should toggle the direction of movement. Provide the code below and take a video showing that is works. Put the shared video link in your final report."
      ],
      "metadata": {
        "id": "b8MZGTq_ws3p"
      }
    },
    {
      "cell_type": "code",
      "source": [
        "# -- YOUR CODE HERE -- #"
      ],
      "metadata": {
        "id": "Gd-NMpcdws3p"
      },
      "execution_count": null,
      "outputs": []
    },
    {
      "cell_type": "markdown",
      "source": [
        "**B. Connecting the Camera**\n",
        "\n",
        "1. There are two (2) ways to connect a camera to Raspberry Pi: (1) through a dedicated camera serial interface (CSI) port, and (2) through USB port. For this activity, you will be using a USB camera. Connect the camera to USB 3.0 port."
      ],
      "metadata": {
        "id": "vQQX89qWgfZV"
      }
    },
    {
      "cell_type": "markdown",
      "source": [
        "2. Confirm that the USB camera was detected by opening the Terminal and running the following command:\n",
        "\n",
        "  `v4l2-ctl --list-devices`\n",
        "\n",
        "  Save the output and look for your USB camera name among the list and take note of its device path (usually `/dev/video0`)"
      ],
      "metadata": {
        "id": "ZbLgDAmoB-z7"
      }
    },
    {
      "cell_type": "markdown",
      "source": [
        "`-- YOUR ANSWER HERE --`"
      ],
      "metadata": {
        "id": "wO5eaps1N-Bp"
      }
    },
    {
      "cell_type": "markdown",
      "source": [
        "3. Run the following command to check the available image resolutions that your camera can support:\n",
        "\n",
        "  `v4l2-ctl --list-formats-ext`"
      ],
      "metadata": {
        "id": "VCsjtBPKJRN8"
      }
    },
    {
      "cell_type": "markdown",
      "source": [
        "`-- YOUR ANSWER HERE --`"
      ],
      "metadata": {
        "id": "Lgk9YomYN_0T"
      }
    },
    {
      "cell_type": "markdown",
      "source": [
        "4. In the Terminal, type the following commands to install the following packages:\n",
        "\n",
        "  `sudo apt update`<br/>\n",
        "  `sudo apt-get install -y ffmpeg fswebcam python3-opencv`"
      ],
      "metadata": {
        "id": "Gx1JD5p4-fFC"
      }
    },
    {
      "cell_type": "markdown",
      "source": [
        "5. Take a picture of your Raspberry Pi setup by running the following command in the Terminal:\n",
        "\n",
        "  `fswebcam -r $RESOLUTION --no-banner ~/Pictures/rpi_setup.jpg`\n",
        "\n",
        "  `$RESOLUTION` should be replaced with the largest resolution supported by your camera (e.g., `1280x720` for 720p) as found in Step C.3. Retrieve the image and include it in your final report."
      ],
      "metadata": {
        "id": "BT8l1RYaAC4g"
      }
    },
    {
      "cell_type": "markdown",
      "source": [
        "`-- YOUR ANSWER HERE --`"
      ],
      "metadata": {
        "id": "o5AD4T4iOB4k"
      }
    },
    {
      "cell_type": "markdown",
      "source": [
        "6. Take a 5-second video using the following command:\n",
        "\n",
        "  `ffmpeg -f v4l2 -i $DEV -t 00:00:05 -vcodec libx264 ~/Videos/vid_test.mp4`\n",
        "\n",
        "  `$DEV` should be replaced with the video device path as found in Step C.2. Retrieve the video and include it in your final report as a shared link."
      ],
      "metadata": {
        "id": "95VIWDucEyMX"
      }
    },
    {
      "cell_type": "markdown",
      "source": [
        "`-- YOUR ANSWER HERE --`"
      ],
      "metadata": {
        "id": "Rmh3BtgVNGMM"
      }
    },
    {
      "cell_type": "markdown",
      "source": [
        "7.  Open the Thonny Python IDE. Confirm first that OpenCV was installed properly by executing the following in the shell:\n",
        "\n",
        "  `import cv2`<br/>\n",
        "  `cv2.__version__`"
      ],
      "metadata": {
        "id": "o_iDaW11B2pP"
      }
    },
    {
      "cell_type": "markdown",
      "source": [
        "`-- YOUR ANSWER HERE --`"
      ],
      "metadata": {
        "id": "hUFlesjOODnW"
      }
    },
    {
      "cell_type": "markdown",
      "source": [
        "8. Copy the following code into the IDE and save it to the Documents folder as a Python script named \"opencv_cam.py\":\n",
        "\n",
        "  ```\n",
        "  import cv2\n",
        "\n",
        "  cam = cv2.VideoCapture(0) # you can change this based on the assigned number in Step C.2\n",
        "\n",
        "  while True:\n",
        "    ret, img = cam.read()\n",
        "    cv2.imshow(\"Camera\", img)\n",
        "    if cv2.waitKey(1) == 27:\n",
        "      break\n",
        "  \n",
        "  cam.release()\n",
        "  cv2.destroyAllWindows()\n",
        "  ```\n",
        "\n",
        "  Take a video of the setup (you can use your mobile phones) with the running program on screen to show that it works. Share the video as a link in your final report."
      ],
      "metadata": {
        "id": "Eoi7BcQeM89T"
      }
    },
    {
      "cell_type": "markdown",
      "source": [
        "`-- YOUR ANSWER HERE --`"
      ],
      "metadata": {
        "id": "xforfQATQzew"
      }
    },
    {
      "cell_type": "markdown",
      "source": [
        "9. Modify the code in Step C.8 so that you can save the camera stream as a video file using OpenCV. The video can be as short as five (5) seconds. Provide the code below and share the created video file as a link in your final report."
      ],
      "metadata": {
        "id": "paxDg1HSQ6r1"
      }
    },
    {
      "cell_type": "code",
      "source": [
        "# -- YOUR CODE HERE -- #"
      ],
      "metadata": {
        "id": "_oXfME2aRZEb"
      },
      "execution_count": null,
      "outputs": []
    },
    {
      "cell_type": "markdown",
      "source": [
        "10. Modify the code in Step C.8 so that the program will save a frame if a button connected to the GPIO header pin is pressed. The program should not overwrite previously saved frames but instead use a sequential numbering scheme for file naming. You may choose any GPIO pin as long as it supports digital input. Provide the code below."
      ],
      "metadata": {
        "id": "l37E2FzFknTw"
      }
    },
    {
      "cell_type": "code",
      "source": [
        "# -- YOUR CODE HERE -- #"
      ],
      "metadata": {
        "id": "OSwrJFB5lSaY"
      },
      "execution_count": null,
      "outputs": []
    },
    {
      "cell_type": "markdown",
      "metadata": {
        "id": "BDXITKpu9nGJ"
      },
      "source": [
        "***"
      ]
    },
    {
      "cell_type": "markdown",
      "metadata": {
        "id": "4dIY4kvdVTW8"
      },
      "source": [
        "### Machine Problems\n"
      ]
    },
    {
      "cell_type": "markdown",
      "metadata": {
        "id": "jtS1UxTpVZm8"
      },
      "source": [
        "### References\n",
        "\n",
        "[1] *Raspberry Pi 4 Model Specifications*. https://www.raspberrypi.com/products/raspberry-pi-4-model-b/specifications/\n",
        "\n",
        "[2] *Raspberry Pi OS*. https://www.raspberrypi.com/software/\n",
        "\n",
        "[3] *GPIO Pins | Physical Computing with Python*. https://projects.raspberrypi.org/en/projects/physical-computing/1\n",
        "\n",
        "[4] *Install OpenCV on your Raspberry Pi*. https://raspberrypi-guide.github.io/programming/install-opencv\n",
        "\n",
        "[5] *Working with USB webcams on your Raspberry Pi*. https://raspberrypi-guide.github.io/electronics/using-usb-webcams"
      ]
    }
  ],
  "metadata": {
    "colab": {
      "provenance": []
    },
    "kernelspec": {
      "display_name": "Python 3",
      "name": "python3"
    },
    "language_info": {
      "name": "python"
    }
  },
  "nbformat": 4,
  "nbformat_minor": 0
}